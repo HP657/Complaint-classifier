{
 "cells": [
  {
   "cell_type": "code",
   "execution_count": 2,
   "id": "63de25bf",
   "metadata": {},
   "outputs": [],
   "source": [
    "import numpy as np\n",
    "import pandas as pd\n",
    "from gensim.models.word2vec import Word2Vec\n",
    "from konlpy.tag import Okt"
   ]
  },
  {
   "cell_type": "code",
   "execution_count": 42,
   "id": "f382ce71",
   "metadata": {
    "scrolled": true
   },
   "outputs": [
    {
     "data": {
      "text/html": [
       "<div>\n",
       "<style scoped>\n",
       "    .dataframe tbody tr th:only-of-type {\n",
       "        vertical-align: middle;\n",
       "    }\n",
       "\n",
       "    .dataframe tbody tr th {\n",
       "        vertical-align: top;\n",
       "    }\n",
       "\n",
       "    .dataframe thead th {\n",
       "        text-align: right;\n",
       "    }\n",
       "</style>\n",
       "<table border=\"1\" class=\"dataframe\">\n",
       "  <thead>\n",
       "    <tr style=\"text-align: right;\">\n",
       "      <th></th>\n",
       "      <th>Unnamed: 0.1</th>\n",
       "      <th>Unnamed: 0</th>\n",
       "      <th>민원 내용</th>\n",
       "      <th>답변 담당부서</th>\n",
       "    </tr>\n",
       "  </thead>\n",
       "  <tbody>\n",
       "    <tr>\n",
       "      <th>0</th>\n",
       "      <td>0</td>\n",
       "      <td>0</td>\n",
       "      <td>불연성 쓰레기봉투 판매하는곳 어디어디 있나요?</td>\n",
       "      <td>경제환경국 자원순환과</td>\n",
       "    </tr>\n",
       "    <tr>\n",
       "      <th>1</th>\n",
       "      <td>1</td>\n",
       "      <td>1</td>\n",
       "      <td>1 금정구청 에서 청년의 생활 수준 향상과 생계 주거비 부담 완화를 위해 대학생 생...</td>\n",
       "      <td>경제환경국 일자리경제과</td>\n",
       "    </tr>\n",
       "    <tr>\n",
       "      <th>2</th>\n",
       "      <td>2</td>\n",
       "      <td>2</td>\n",
       "      <td>안녕하세요?\\n동현로 67 위로 소심유치원과 맞닿은 길이 있습니다. 아침에 3살 아...</td>\n",
       "      <td>안전도시국 교통행정과</td>\n",
       "    </tr>\n",
       "    <tr>\n",
       "      <th>3</th>\n",
       "      <td>3</td>\n",
       "      <td>3</td>\n",
       "      <td>구민 을 위해 늘 수고하시는공무원 여러분께 감사합니다 다음과같이민원을제기합니다 금정...</td>\n",
       "      <td>안전도시국 건설과</td>\n",
       "    </tr>\n",
       "    <tr>\n",
       "      <th>4</th>\n",
       "      <td>4</td>\n",
       "      <td>4</td>\n",
       "      <td>선두구동 거주민입니다.\\n\\n집 뒤 물류창고의 새벽 상/하차 작업으로 인한 생활불편...</td>\n",
       "      <td>경제환경국 환경위생과</td>\n",
       "    </tr>\n",
       "    <tr>\n",
       "      <th>...</th>\n",
       "      <td>...</td>\n",
       "      <td>...</td>\n",
       "      <td>...</td>\n",
       "      <td>...</td>\n",
       "    </tr>\n",
       "    <tr>\n",
       "      <th>3800</th>\n",
       "      <td>3800</td>\n",
       "      <td>4472</td>\n",
       "      <td>경동택배 관련 민원이 저 뿐만 아니라 많이 발생하고 있네요.\\n\\n앞서 제기한 민원...</td>\n",
       "      <td>안전도시국 교통행정과</td>\n",
       "    </tr>\n",
       "    <tr>\n",
       "      <th>3801</th>\n",
       "      <td>3801</td>\n",
       "      <td>4473</td>\n",
       "      <td>안녕하세요. 수고 많으십니다.\\n\\n1. 저는 금정구 구민으로 온천천을 걷는 운동을...</td>\n",
       "      <td>안전도시국 교통행정과</td>\n",
       "    </tr>\n",
       "    <tr>\n",
       "      <th>3802</th>\n",
       "      <td>3802</td>\n",
       "      <td>4474</td>\n",
       "      <td>금정구 오륜동에 현재 가정오수정화시설공사를 하고 있는데 저희집584번지(어머니만거처...</td>\n",
       "      <td>안전도시국 건설과</td>\n",
       "    </tr>\n",
       "    <tr>\n",
       "      <th>3803</th>\n",
       "      <td>3803</td>\n",
       "      <td>4475</td>\n",
       "      <td>안녕하세요. 국민을 위한 노고에 수고가 많으십니다.\\n\\n다름이 아니라 제가 거주하...</td>\n",
       "      <td>경제환경국 환경위생과</td>\n",
       "    </tr>\n",
       "    <tr>\n",
       "      <th>3804</th>\n",
       "      <td>3804</td>\n",
       "      <td>4476</td>\n",
       "      <td>수고가 많습니다.\\n장소 : 금정구 구서1동 462-20번지.(호수한정식 후문)\\n...</td>\n",
       "      <td>안전도시국 건축과</td>\n",
       "    </tr>\n",
       "  </tbody>\n",
       "</table>\n",
       "<p>3805 rows × 4 columns</p>\n",
       "</div>"
      ],
      "text/plain": [
       "      Unnamed: 0.1  Unnamed: 0  \\\n",
       "0                0           0   \n",
       "1                1           1   \n",
       "2                2           2   \n",
       "3                3           3   \n",
       "4                4           4   \n",
       "...            ...         ...   \n",
       "3800          3800        4472   \n",
       "3801          3801        4473   \n",
       "3802          3802        4474   \n",
       "3803          3803        4475   \n",
       "3804          3804        4476   \n",
       "\n",
       "                                                  민원 내용       답변 담당부서  \n",
       "0                             불연성 쓰레기봉투 판매하는곳 어디어디 있나요?   경제환경국 자원순환과  \n",
       "1     1 금정구청 에서 청년의 생활 수준 향상과 생계 주거비 부담 완화를 위해 대학생 생...  경제환경국 일자리경제과  \n",
       "2     안녕하세요?\\n동현로 67 위로 소심유치원과 맞닿은 길이 있습니다. 아침에 3살 아...   안전도시국 교통행정과  \n",
       "3     구민 을 위해 늘 수고하시는공무원 여러분께 감사합니다 다음과같이민원을제기합니다 금정...     안전도시국 건설과  \n",
       "4     선두구동 거주민입니다.\\n\\n집 뒤 물류창고의 새벽 상/하차 작업으로 인한 생활불편...   경제환경국 환경위생과  \n",
       "...                                                 ...           ...  \n",
       "3800  경동택배 관련 민원이 저 뿐만 아니라 많이 발생하고 있네요.\\n\\n앞서 제기한 민원...   안전도시국 교통행정과  \n",
       "3801  안녕하세요. 수고 많으십니다.\\n\\n1. 저는 금정구 구민으로 온천천을 걷는 운동을...   안전도시국 교통행정과  \n",
       "3802  금정구 오륜동에 현재 가정오수정화시설공사를 하고 있는데 저희집584번지(어머니만거처...     안전도시국 건설과  \n",
       "3803  안녕하세요. 국민을 위한 노고에 수고가 많으십니다.\\n\\n다름이 아니라 제가 거주하...   경제환경국 환경위생과  \n",
       "3804  수고가 많습니다.\\n장소 : 금정구 구서1동 462-20번지.(호수한정식 후문)\\n...     안전도시국 건축과  \n",
       "\n",
       "[3805 rows x 4 columns]"
      ]
     },
     "execution_count": 42,
     "metadata": {},
     "output_type": "execute_result"
    }
   ],
   "source": [
    "train = pd.read_csv(\"output_data.csv\", encoding='utf-8')\n",
    "train"
   ]
  },
  {
   "cell_type": "code",
   "execution_count": 44,
   "metadata": {},
   "outputs": [],
   "source": [
    "test = pd.read_csv('test.csv')\n",
    "test = pd.DataFrame(test, columns=['text'])"
   ]
  },
  {
   "cell_type": "code",
   "execution_count": 45,
   "metadata": {},
   "outputs": [
    {
     "data": {
      "text/plain": [
       "답변 담당부서\n",
       "안전도시국 건설과       757\n",
       "안전도시국 교통행정과     644\n",
       "안전도시국 건축과       483\n",
       "경제환경국 환경위생과     413\n",
       "경제환경국 공원녹지과     346\n",
       "안전도시국 안전관리과     342\n",
       "경제환경국 자원순환과     209\n",
       "행정지원국 총무과       181\n",
       "경제환경국 일자리경제과     99\n",
       "보건소 보건행정과        83\n",
       "기획감사실            79\n",
       "행정지원국 민원여권과      59\n",
       "문화복지국 사회복지과      59\n",
       "안전도시국 도시관리과      51\n",
       "Name: count, dtype: int64"
      ]
     },
     "execution_count": 45,
     "metadata": {},
     "output_type": "execute_result"
    }
   ],
   "source": [
    "train['답변 담당부서'].value_counts()"
   ]
  },
  {
   "cell_type": "code",
   "execution_count": 81,
   "metadata": {},
   "outputs": [],
   "source": [
    "train = train[['민원 내용', '답변 담당부서']]"
   ]
  },
  {
   "cell_type": "code",
   "execution_count": 82,
   "id": "2b65ac04",
   "metadata": {},
   "outputs": [
    {
     "data": {
      "text/plain": [
       "(3805, 2)"
      ]
     },
     "execution_count": 82,
     "metadata": {},
     "output_type": "execute_result"
    }
   ],
   "source": [
    "train.shape"
   ]
  },
  {
   "cell_type": "code",
   "execution_count": 83,
   "id": "691baf13",
   "metadata": {},
   "outputs": [
    {
     "name": "stdout",
     "output_type": "stream",
     "text": [
      "<class 'pandas.core.frame.DataFrame'>\n",
      "RangeIndex: 3805 entries, 0 to 3804\n",
      "Data columns (total 2 columns):\n",
      " #   Column   Non-Null Count  Dtype \n",
      "---  ------   --------------  ----- \n",
      " 0   민원 내용    3805 non-null   object\n",
      " 1   답변 담당부서  3805 non-null   object\n",
      "dtypes: object(2)\n",
      "memory usage: 59.6+ KB\n"
     ]
    }
   ],
   "source": [
    "train.info()"
   ]
  },
  {
   "cell_type": "code",
   "execution_count": 84,
   "id": "d2bf5d1d",
   "metadata": {},
   "outputs": [],
   "source": [
    "from konlpy.tag import Okt"
   ]
  },
  {
   "cell_type": "code",
   "execution_count": 85,
   "id": "2347398b",
   "metadata": {},
   "outputs": [
    {
     "name": "stdout",
     "output_type": "stream",
     "text": [
      "원본 문장 :  불연성 쓰레기봉투 판매하는곳 어디어디 있나요?\n",
      "형태소 기준으로 tokenize :  ['불', '연성', '쓰레기봉투', '판매', '하는', '곳', '어디', '어디', '있나요', '?']\n"
     ]
    }
   ],
   "source": [
    "okt = Okt()\n",
    "\n",
    "# 이랬던 문장이.\n",
    "print(\"원본 문장 : \", train.iloc[0]['민원 내용']) \n",
    "\n",
    "# 이렇게 바뀝니다. okt.morphs가 형태소 분석기에요.\n",
    "token_okt = okt.morphs(train.iloc[0]['민원 내용'])\n",
    "print(\"형태소 기준으로 tokenize : \", token_okt) "
   ]
  },
  {
   "cell_type": "code",
   "execution_count": 86,
   "id": "726fe5d3",
   "metadata": {},
   "outputs": [],
   "source": [
    "# 형태소로 토크나이징\n",
    "temp = []\n",
    "for i in train['민원 내용']:\n",
    "    temp.append(okt.morphs(i))\n",
    "    \n",
    "temp = pd.Series(temp)\n",
    "train['token'] = temp"
   ]
  },
  {
   "cell_type": "code",
   "execution_count": 87,
   "id": "fe33fb3e",
   "metadata": {},
   "outputs": [
    {
     "name": "stdout",
     "output_type": "stream",
     "text": [
      "<class 'pandas.core.frame.DataFrame'>\n",
      "RangeIndex: 3805 entries, 0 to 3804\n",
      "Data columns (total 3 columns):\n",
      " #   Column   Non-Null Count  Dtype \n",
      "---  ------   --------------  ----- \n",
      " 0   민원 내용    3805 non-null   object\n",
      " 1   답변 담당부서  3805 non-null   object\n",
      " 2   token    3805 non-null   object\n",
      "dtypes: object(3)\n",
      "memory usage: 89.3+ KB\n"
     ]
    }
   ],
   "source": [
    "train.info()"
   ]
  },
  {
   "cell_type": "code",
   "execution_count": 88,
   "metadata": {},
   "outputs": [],
   "source": [
    "from gensim.models import Word2Vec"
   ]
  },
  {
   "cell_type": "code",
   "execution_count": 89,
   "metadata": {},
   "outputs": [
    {
     "data": {
      "text/html": [
       "<div>\n",
       "<style scoped>\n",
       "    .dataframe tbody tr th:only-of-type {\n",
       "        vertical-align: middle;\n",
       "    }\n",
       "\n",
       "    .dataframe tbody tr th {\n",
       "        vertical-align: top;\n",
       "    }\n",
       "\n",
       "    .dataframe thead th {\n",
       "        text-align: right;\n",
       "    }\n",
       "</style>\n",
       "<table border=\"1\" class=\"dataframe\">\n",
       "  <thead>\n",
       "    <tr style=\"text-align: right;\">\n",
       "      <th></th>\n",
       "      <th>민원 내용</th>\n",
       "      <th>답변 담당부서</th>\n",
       "      <th>token</th>\n",
       "    </tr>\n",
       "  </thead>\n",
       "  <tbody>\n",
       "    <tr>\n",
       "      <th>0</th>\n",
       "      <td>불연성 쓰레기봉투 판매하는곳 어디어디 있나요?</td>\n",
       "      <td>경제환경국 자원순환과</td>\n",
       "      <td>[불, 연성, 쓰레기봉투, 판매, 하는, 곳, 어디, 어디, 있나요, ?]</td>\n",
       "    </tr>\n",
       "    <tr>\n",
       "      <th>1</th>\n",
       "      <td>1 금정구청 에서 청년의 생활 수준 향상과 생계 주거비 부담 완화를 위해 대학생 생...</td>\n",
       "      <td>경제환경국 일자리경제과</td>\n",
       "      <td>[1, 금정, 구청, 에서, 청년, 의, 생활, 수준, 향상, 과, 생계, 주거, ...</td>\n",
       "    </tr>\n",
       "    <tr>\n",
       "      <th>2</th>\n",
       "      <td>안녕하세요?\\n동현로 67 위로 소심유치원과 맞닿은 길이 있습니다. 아침에 3살 아...</td>\n",
       "      <td>안전도시국 교통행정과</td>\n",
       "      <td>[안녕하세요, ?, \\n, 동현, 로, 67, 위로, 소심, 유치원, 과, 맞닿은,...</td>\n",
       "    </tr>\n",
       "    <tr>\n",
       "      <th>3</th>\n",
       "      <td>구민 을 위해 늘 수고하시는공무원 여러분께 감사합니다 다음과같이민원을제기합니다 금정...</td>\n",
       "      <td>안전도시국 건설과</td>\n",
       "      <td>[구민, 을, 위해, 늘, 수고, 하시는, 공무원, 여러분, 께, 감사합니다, 다음...</td>\n",
       "    </tr>\n",
       "    <tr>\n",
       "      <th>4</th>\n",
       "      <td>선두구동 거주민입니다.\\n\\n집 뒤 물류창고의 새벽 상/하차 작업으로 인한 생활불편...</td>\n",
       "      <td>경제환경국 환경위생과</td>\n",
       "      <td>[선두구동, 거, 주민, 입니다, ., \\n\\n, 집, 뒤, 물류, 창고, 의, 새...</td>\n",
       "    </tr>\n",
       "    <tr>\n",
       "      <th>...</th>\n",
       "      <td>...</td>\n",
       "      <td>...</td>\n",
       "      <td>...</td>\n",
       "    </tr>\n",
       "    <tr>\n",
       "      <th>3800</th>\n",
       "      <td>경동택배 관련 민원이 저 뿐만 아니라 많이 발생하고 있네요.\\n\\n앞서 제기한 민원...</td>\n",
       "      <td>안전도시국 교통행정과</td>\n",
       "      <td>[경, 동, 택배, 관련, 민원, 이, 저, 뿐, 만, 아니라, 많이, 발생, 하고...</td>\n",
       "    </tr>\n",
       "    <tr>\n",
       "      <th>3801</th>\n",
       "      <td>안녕하세요. 수고 많으십니다.\\n\\n1. 저는 금정구 구민으로 온천천을 걷는 운동을...</td>\n",
       "      <td>안전도시국 교통행정과</td>\n",
       "      <td>[안녕하세요, ., 수고, 많으십니다, ., \\n\\n, 1, ., 저, 는, 금정구...</td>\n",
       "    </tr>\n",
       "    <tr>\n",
       "      <th>3802</th>\n",
       "      <td>금정구 오륜동에 현재 가정오수정화시설공사를 하고 있는데 저희집584번지(어머니만거처...</td>\n",
       "      <td>안전도시국 건설과</td>\n",
       "      <td>[금정구, 오륜동, 에, 현재, 가정, 오, 수정, 화, 시설, 공사, 를, 하고,...</td>\n",
       "    </tr>\n",
       "    <tr>\n",
       "      <th>3803</th>\n",
       "      <td>안녕하세요. 국민을 위한 노고에 수고가 많으십니다.\\n\\n다름이 아니라 제가 거주하...</td>\n",
       "      <td>경제환경국 환경위생과</td>\n",
       "      <td>[안녕하세요, ., 국민, 을, 위, 한, 노고, 에, 수고, 가, 많으십니다, ....</td>\n",
       "    </tr>\n",
       "    <tr>\n",
       "      <th>3804</th>\n",
       "      <td>수고가 많습니다.\\n장소 : 금정구 구서1동 462-20번지.(호수한정식 후문)\\n...</td>\n",
       "      <td>안전도시국 건축과</td>\n",
       "      <td>[수고, 가, 많습니다, ., \\n, 장소, :, 금정구, 구서, 1, 동, 462...</td>\n",
       "    </tr>\n",
       "  </tbody>\n",
       "</table>\n",
       "<p>3805 rows × 3 columns</p>\n",
       "</div>"
      ],
      "text/plain": [
       "                                                  민원 내용       답변 담당부서  \\\n",
       "0                             불연성 쓰레기봉투 판매하는곳 어디어디 있나요?   경제환경국 자원순환과   \n",
       "1     1 금정구청 에서 청년의 생활 수준 향상과 생계 주거비 부담 완화를 위해 대학생 생...  경제환경국 일자리경제과   \n",
       "2     안녕하세요?\\n동현로 67 위로 소심유치원과 맞닿은 길이 있습니다. 아침에 3살 아...   안전도시국 교통행정과   \n",
       "3     구민 을 위해 늘 수고하시는공무원 여러분께 감사합니다 다음과같이민원을제기합니다 금정...     안전도시국 건설과   \n",
       "4     선두구동 거주민입니다.\\n\\n집 뒤 물류창고의 새벽 상/하차 작업으로 인한 생활불편...   경제환경국 환경위생과   \n",
       "...                                                 ...           ...   \n",
       "3800  경동택배 관련 민원이 저 뿐만 아니라 많이 발생하고 있네요.\\n\\n앞서 제기한 민원...   안전도시국 교통행정과   \n",
       "3801  안녕하세요. 수고 많으십니다.\\n\\n1. 저는 금정구 구민으로 온천천을 걷는 운동을...   안전도시국 교통행정과   \n",
       "3802  금정구 오륜동에 현재 가정오수정화시설공사를 하고 있는데 저희집584번지(어머니만거처...     안전도시국 건설과   \n",
       "3803  안녕하세요. 국민을 위한 노고에 수고가 많으십니다.\\n\\n다름이 아니라 제가 거주하...   경제환경국 환경위생과   \n",
       "3804  수고가 많습니다.\\n장소 : 금정구 구서1동 462-20번지.(호수한정식 후문)\\n...     안전도시국 건축과   \n",
       "\n",
       "                                                  token  \n",
       "0             [불, 연성, 쓰레기봉투, 판매, 하는, 곳, 어디, 어디, 있나요, ?]  \n",
       "1     [1, 금정, 구청, 에서, 청년, 의, 생활, 수준, 향상, 과, 생계, 주거, ...  \n",
       "2     [안녕하세요, ?, \\n, 동현, 로, 67, 위로, 소심, 유치원, 과, 맞닿은,...  \n",
       "3     [구민, 을, 위해, 늘, 수고, 하시는, 공무원, 여러분, 께, 감사합니다, 다음...  \n",
       "4     [선두구동, 거, 주민, 입니다, ., \\n\\n, 집, 뒤, 물류, 창고, 의, 새...  \n",
       "...                                                 ...  \n",
       "3800  [경, 동, 택배, 관련, 민원, 이, 저, 뿐, 만, 아니라, 많이, 발생, 하고...  \n",
       "3801  [안녕하세요, ., 수고, 많으십니다, ., \\n\\n, 1, ., 저, 는, 금정구...  \n",
       "3802  [금정구, 오륜동, 에, 현재, 가정, 오, 수정, 화, 시설, 공사, 를, 하고,...  \n",
       "3803  [안녕하세요, ., 국민, 을, 위, 한, 노고, 에, 수고, 가, 많으십니다, ....  \n",
       "3804  [수고, 가, 많습니다, ., \\n, 장소, :, 금정구, 구서, 1, 동, 462...  \n",
       "\n",
       "[3805 rows x 3 columns]"
      ]
     },
     "execution_count": 89,
     "metadata": {},
     "output_type": "execute_result"
    }
   ],
   "source": [
    "train"
   ]
  },
  {
   "cell_type": "code",
   "execution_count": 90,
   "metadata": {},
   "outputs": [],
   "source": [
    "# Word2Vec 모델 학습\n",
    "wv_model = Word2Vec(train['token'], vector_size = 1000, window = 5, min_count = 5, workers = 4, sg = 0)"
   ]
  },
  {
   "cell_type": "code",
   "execution_count": 91,
   "metadata": {},
   "outputs": [
    {
     "data": {
      "text/plain": [
       "['word_model.joblib']"
      ]
     },
     "execution_count": 91,
     "metadata": {},
     "output_type": "execute_result"
    }
   ],
   "source": [
    "import joblib\n",
    "\n",
    "joblib.dump(wv_model, 'word_model.joblib')"
   ]
  },
  {
   "cell_type": "code",
   "execution_count": 92,
   "metadata": {},
   "outputs": [
    {
     "data": {
      "text/plain": [
       "(10546, 1000)"
      ]
     },
     "execution_count": 92,
     "metadata": {},
     "output_type": "execute_result"
    }
   ],
   "source": [
    "wv_model.wv.vectors.shape"
   ]
  },
  {
   "cell_type": "code",
   "execution_count": 93,
   "metadata": {},
   "outputs": [],
   "source": [
    "def get_sent_embedding(model, embedding_size, tokenized_words):\n",
    "    feature_vec = np.zeros((embedding_size,), dtype=\"float32\")\n",
    "    n_words = 0\n",
    "    for word in tokenized_words:\n",
    "        if word in model.wv.key_to_index:\n",
    "            n_words += 1\n",
    "            # 임베딩 벡터에 해당 단어의 벡터를 더함\n",
    "            feature_vec = np.add(feature_vec, model.wv[word])\n",
    "    # 단어 개수가 0보다 큰 경우 벡터를 단어 개수로 나눠줌 (평균 임베딩 벡터 계산)\n",
    "    if (n_words > 0):\n",
    "        feature_vec = np.divide(feature_vec, n_words)\n",
    "    return feature_vec\n",
    "\n",
    "# 문장벡터 데이터 셋 만들기\n",
    "def get_dataset(sentences, model, num_features):\n",
    "    dataset = list()\n",
    "\n",
    "    # 각 문장을 벡터화해서 리스트에 저장\n",
    "    for sent in sentences:\n",
    "        dataset.append(get_sent_embedding(model, num_features, sent))\n",
    "\n",
    "    # 리스트를 numpy 배열로 변환하여 반환\n",
    "    sent_embedding_vectors = np.stack(dataset)\n",
    "    \n",
    "    return sent_embedding_vectors"
   ]
  },
  {
   "cell_type": "code",
   "execution_count": 94,
   "metadata": {},
   "outputs": [],
   "source": [
    "train_data_vecs = get_dataset(train['token'], wv_model, 1000)"
   ]
  },
  {
   "cell_type": "code",
   "execution_count": 95,
   "metadata": {},
   "outputs": [],
   "source": [
    "from sklearn.model_selection import train_test_split"
   ]
  },
  {
   "cell_type": "code",
   "execution_count": 96,
   "metadata": {},
   "outputs": [],
   "source": [
    "target = '답변 담당부서'\n",
    "x = train.drop(target, axis=1)\n",
    "y = train[target]"
   ]
  },
  {
   "cell_type": "code",
   "execution_count": 97,
   "metadata": {},
   "outputs": [
    {
     "data": {
      "text/html": [
       "<div>\n",
       "<style scoped>\n",
       "    .dataframe tbody tr th:only-of-type {\n",
       "        vertical-align: middle;\n",
       "    }\n",
       "\n",
       "    .dataframe tbody tr th {\n",
       "        vertical-align: top;\n",
       "    }\n",
       "\n",
       "    .dataframe thead th {\n",
       "        text-align: right;\n",
       "    }\n",
       "</style>\n",
       "<table border=\"1\" class=\"dataframe\">\n",
       "  <thead>\n",
       "    <tr style=\"text-align: right;\">\n",
       "      <th></th>\n",
       "      <th>민원 내용</th>\n",
       "      <th>token</th>\n",
       "    </tr>\n",
       "  </thead>\n",
       "  <tbody>\n",
       "    <tr>\n",
       "      <th>0</th>\n",
       "      <td>불연성 쓰레기봉투 판매하는곳 어디어디 있나요?</td>\n",
       "      <td>[불, 연성, 쓰레기봉투, 판매, 하는, 곳, 어디, 어디, 있나요, ?]</td>\n",
       "    </tr>\n",
       "    <tr>\n",
       "      <th>1</th>\n",
       "      <td>1 금정구청 에서 청년의 생활 수준 향상과 생계 주거비 부담 완화를 위해 대학생 생...</td>\n",
       "      <td>[1, 금정, 구청, 에서, 청년, 의, 생활, 수준, 향상, 과, 생계, 주거, ...</td>\n",
       "    </tr>\n",
       "    <tr>\n",
       "      <th>2</th>\n",
       "      <td>안녕하세요?\\n동현로 67 위로 소심유치원과 맞닿은 길이 있습니다. 아침에 3살 아...</td>\n",
       "      <td>[안녕하세요, ?, \\n, 동현, 로, 67, 위로, 소심, 유치원, 과, 맞닿은,...</td>\n",
       "    </tr>\n",
       "    <tr>\n",
       "      <th>3</th>\n",
       "      <td>구민 을 위해 늘 수고하시는공무원 여러분께 감사합니다 다음과같이민원을제기합니다 금정...</td>\n",
       "      <td>[구민, 을, 위해, 늘, 수고, 하시는, 공무원, 여러분, 께, 감사합니다, 다음...</td>\n",
       "    </tr>\n",
       "    <tr>\n",
       "      <th>4</th>\n",
       "      <td>선두구동 거주민입니다.\\n\\n집 뒤 물류창고의 새벽 상/하차 작업으로 인한 생활불편...</td>\n",
       "      <td>[선두구동, 거, 주민, 입니다, ., \\n\\n, 집, 뒤, 물류, 창고, 의, 새...</td>\n",
       "    </tr>\n",
       "    <tr>\n",
       "      <th>...</th>\n",
       "      <td>...</td>\n",
       "      <td>...</td>\n",
       "    </tr>\n",
       "    <tr>\n",
       "      <th>3800</th>\n",
       "      <td>경동택배 관련 민원이 저 뿐만 아니라 많이 발생하고 있네요.\\n\\n앞서 제기한 민원...</td>\n",
       "      <td>[경, 동, 택배, 관련, 민원, 이, 저, 뿐, 만, 아니라, 많이, 발생, 하고...</td>\n",
       "    </tr>\n",
       "    <tr>\n",
       "      <th>3801</th>\n",
       "      <td>안녕하세요. 수고 많으십니다.\\n\\n1. 저는 금정구 구민으로 온천천을 걷는 운동을...</td>\n",
       "      <td>[안녕하세요, ., 수고, 많으십니다, ., \\n\\n, 1, ., 저, 는, 금정구...</td>\n",
       "    </tr>\n",
       "    <tr>\n",
       "      <th>3802</th>\n",
       "      <td>금정구 오륜동에 현재 가정오수정화시설공사를 하고 있는데 저희집584번지(어머니만거처...</td>\n",
       "      <td>[금정구, 오륜동, 에, 현재, 가정, 오, 수정, 화, 시설, 공사, 를, 하고,...</td>\n",
       "    </tr>\n",
       "    <tr>\n",
       "      <th>3803</th>\n",
       "      <td>안녕하세요. 국민을 위한 노고에 수고가 많으십니다.\\n\\n다름이 아니라 제가 거주하...</td>\n",
       "      <td>[안녕하세요, ., 국민, 을, 위, 한, 노고, 에, 수고, 가, 많으십니다, ....</td>\n",
       "    </tr>\n",
       "    <tr>\n",
       "      <th>3804</th>\n",
       "      <td>수고가 많습니다.\\n장소 : 금정구 구서1동 462-20번지.(호수한정식 후문)\\n...</td>\n",
       "      <td>[수고, 가, 많습니다, ., \\n, 장소, :, 금정구, 구서, 1, 동, 462...</td>\n",
       "    </tr>\n",
       "  </tbody>\n",
       "</table>\n",
       "<p>3805 rows × 2 columns</p>\n",
       "</div>"
      ],
      "text/plain": [
       "                                                  민원 내용  \\\n",
       "0                             불연성 쓰레기봉투 판매하는곳 어디어디 있나요?   \n",
       "1     1 금정구청 에서 청년의 생활 수준 향상과 생계 주거비 부담 완화를 위해 대학생 생...   \n",
       "2     안녕하세요?\\n동현로 67 위로 소심유치원과 맞닿은 길이 있습니다. 아침에 3살 아...   \n",
       "3     구민 을 위해 늘 수고하시는공무원 여러분께 감사합니다 다음과같이민원을제기합니다 금정...   \n",
       "4     선두구동 거주민입니다.\\n\\n집 뒤 물류창고의 새벽 상/하차 작업으로 인한 생활불편...   \n",
       "...                                                 ...   \n",
       "3800  경동택배 관련 민원이 저 뿐만 아니라 많이 발생하고 있네요.\\n\\n앞서 제기한 민원...   \n",
       "3801  안녕하세요. 수고 많으십니다.\\n\\n1. 저는 금정구 구민으로 온천천을 걷는 운동을...   \n",
       "3802  금정구 오륜동에 현재 가정오수정화시설공사를 하고 있는데 저희집584번지(어머니만거처...   \n",
       "3803  안녕하세요. 국민을 위한 노고에 수고가 많으십니다.\\n\\n다름이 아니라 제가 거주하...   \n",
       "3804  수고가 많습니다.\\n장소 : 금정구 구서1동 462-20번지.(호수한정식 후문)\\n...   \n",
       "\n",
       "                                                  token  \n",
       "0             [불, 연성, 쓰레기봉투, 판매, 하는, 곳, 어디, 어디, 있나요, ?]  \n",
       "1     [1, 금정, 구청, 에서, 청년, 의, 생활, 수준, 향상, 과, 생계, 주거, ...  \n",
       "2     [안녕하세요, ?, \\n, 동현, 로, 67, 위로, 소심, 유치원, 과, 맞닿은,...  \n",
       "3     [구민, 을, 위해, 늘, 수고, 하시는, 공무원, 여러분, 께, 감사합니다, 다음...  \n",
       "4     [선두구동, 거, 주민, 입니다, ., \\n\\n, 집, 뒤, 물류, 창고, 의, 새...  \n",
       "...                                                 ...  \n",
       "3800  [경, 동, 택배, 관련, 민원, 이, 저, 뿐, 만, 아니라, 많이, 발생, 하고...  \n",
       "3801  [안녕하세요, ., 수고, 많으십니다, ., \\n\\n, 1, ., 저, 는, 금정구...  \n",
       "3802  [금정구, 오륜동, 에, 현재, 가정, 오, 수정, 화, 시설, 공사, 를, 하고,...  \n",
       "3803  [안녕하세요, ., 국민, 을, 위, 한, 노고, 에, 수고, 가, 많으십니다, ....  \n",
       "3804  [수고, 가, 많습니다, ., \\n, 장소, :, 금정구, 구서, 1, 동, 462...  \n",
       "\n",
       "[3805 rows x 2 columns]"
      ]
     },
     "execution_count": 97,
     "metadata": {},
     "output_type": "execute_result"
    }
   ],
   "source": [
    "x"
   ]
  },
  {
   "cell_type": "code",
   "execution_count": 98,
   "metadata": {},
   "outputs": [],
   "source": [
    "x = get_dataset(x['token'], wv_model, 1000)"
   ]
  },
  {
   "cell_type": "code",
   "execution_count": 99,
   "metadata": {},
   "outputs": [
    {
     "data": {
      "text/plain": [
       "답변 담당부서\n",
       "안전도시국 건설과       757\n",
       "안전도시국 교통행정과     644\n",
       "안전도시국 건축과       483\n",
       "경제환경국 환경위생과     413\n",
       "경제환경국 공원녹지과     346\n",
       "안전도시국 안전관리과     342\n",
       "경제환경국 자원순환과     209\n",
       "행정지원국 총무과       181\n",
       "경제환경국 일자리경제과     99\n",
       "보건소 보건행정과        83\n",
       "기획감사실            79\n",
       "행정지원국 민원여권과      59\n",
       "문화복지국 사회복지과      59\n",
       "안전도시국 도시관리과      51\n",
       "Name: count, dtype: int64"
      ]
     },
     "execution_count": 99,
     "metadata": {},
     "output_type": "execute_result"
    }
   ],
   "source": [
    "y.value_counts()"
   ]
  },
  {
   "cell_type": "code",
   "execution_count": 100,
   "metadata": {},
   "outputs": [],
   "source": [
    "x_train, x_val, y_train, y_val = train_test_split(x, y, test_size=0.15)"
   ]
  },
  {
   "cell_type": "code",
   "execution_count": 101,
   "metadata": {},
   "outputs": [],
   "source": [
    "from sklearn.ensemble import RandomForestClassifier\n",
    "model = RandomForestClassifier()\n",
    "\n",
    "model.fit(x_train, y_train)\n",
    "\n",
    "y_pred = model.predict(x_val)"
   ]
  },
  {
   "cell_type": "code",
   "execution_count": 102,
   "metadata": {},
   "outputs": [],
   "source": [
    "from sklearn.metrics import accuracy_score\n",
    "from sklearn.metrics import f1_score"
   ]
  },
  {
   "cell_type": "code",
   "execution_count": 103,
   "metadata": {},
   "outputs": [
    {
     "data": {
      "text/plain": [
       "0.1733800350262697"
      ]
     },
     "execution_count": 103,
     "metadata": {},
     "output_type": "execute_result"
    }
   ],
   "source": [
    "accuracy_score(y_val, y_pred)"
   ]
  },
  {
   "cell_type": "code",
   "execution_count": 104,
   "metadata": {},
   "outputs": [
    {
     "data": {
      "text/plain": [
       "0.05306305376276897"
      ]
     },
     "execution_count": 104,
     "metadata": {},
     "output_type": "execute_result"
    }
   ],
   "source": [
    "f1_score(y_val, y_pred, average=\"macro\")"
   ]
  },
  {
   "cell_type": "code",
   "execution_count": 105,
   "metadata": {},
   "outputs": [
    {
     "data": {
      "text/plain": [
       "['model.joblib']"
      ]
     },
     "execution_count": 105,
     "metadata": {},
     "output_type": "execute_result"
    }
   ],
   "source": [
    "import joblib\n",
    "joblib.dump(model, 'model.joblib')"
   ]
  },
  {
   "cell_type": "code",
   "execution_count": 106,
   "metadata": {},
   "outputs": [],
   "source": [
    "import pandas as pd\n",
    "\n",
    "data = pd.read_csv(\"output_data.csv\")"
   ]
  },
  {
   "cell_type": "code",
   "execution_count": 110,
   "metadata": {},
   "outputs": [
    {
     "data": {
      "text/html": [
       "<div>\n",
       "<style scoped>\n",
       "    .dataframe tbody tr th:only-of-type {\n",
       "        vertical-align: middle;\n",
       "    }\n",
       "\n",
       "    .dataframe tbody tr th {\n",
       "        vertical-align: top;\n",
       "    }\n",
       "\n",
       "    .dataframe thead th {\n",
       "        text-align: right;\n",
       "    }\n",
       "</style>\n",
       "<table border=\"1\" class=\"dataframe\">\n",
       "  <thead>\n",
       "    <tr style=\"text-align: right;\">\n",
       "      <th></th>\n",
       "      <th>Unnamed: 0.1</th>\n",
       "      <th>Unnamed: 0</th>\n",
       "      <th>민원 내용</th>\n",
       "      <th>답변 담당부서</th>\n",
       "    </tr>\n",
       "  </thead>\n",
       "  <tbody>\n",
       "    <tr>\n",
       "      <th>0</th>\n",
       "      <td>0</td>\n",
       "      <td>0</td>\n",
       "      <td>불연성 쓰레기봉투 판매하는곳 어디어디 있나요?</td>\n",
       "      <td>경제환경국 자원순환과</td>\n",
       "    </tr>\n",
       "    <tr>\n",
       "      <th>1</th>\n",
       "      <td>1</td>\n",
       "      <td>1</td>\n",
       "      <td>1 금정구청 에서 청년의 생활 수준 향상과 생계 주거비 부담 완화를 위해 대학생 생...</td>\n",
       "      <td>경제환경국 일자리경제과</td>\n",
       "    </tr>\n",
       "    <tr>\n",
       "      <th>2</th>\n",
       "      <td>2</td>\n",
       "      <td>2</td>\n",
       "      <td>안녕하세요?\\n동현로 67 위로 소심유치원과 맞닿은 길이 있습니다. 아침에 3살 아...</td>\n",
       "      <td>안전도시국 교통행정과</td>\n",
       "    </tr>\n",
       "    <tr>\n",
       "      <th>3</th>\n",
       "      <td>3</td>\n",
       "      <td>3</td>\n",
       "      <td>구민 을 위해 늘 수고하시는공무원 여러분께 감사합니다 다음과같이민원을제기합니다 금정...</td>\n",
       "      <td>안전도시국 건설과</td>\n",
       "    </tr>\n",
       "    <tr>\n",
       "      <th>4</th>\n",
       "      <td>4</td>\n",
       "      <td>4</td>\n",
       "      <td>선두구동 거주민입니다.\\n\\n집 뒤 물류창고의 새벽 상/하차 작업으로 인한 생활불편...</td>\n",
       "      <td>경제환경국 환경위생과</td>\n",
       "    </tr>\n",
       "  </tbody>\n",
       "</table>\n",
       "</div>"
      ],
      "text/plain": [
       "   Unnamed: 0.1  Unnamed: 0  \\\n",
       "0             0           0   \n",
       "1             1           1   \n",
       "2             2           2   \n",
       "3             3           3   \n",
       "4             4           4   \n",
       "\n",
       "                                               민원 내용       답변 담당부서  \n",
       "0                          불연성 쓰레기봉투 판매하는곳 어디어디 있나요?   경제환경국 자원순환과  \n",
       "1  1 금정구청 에서 청년의 생활 수준 향상과 생계 주거비 부담 완화를 위해 대학생 생...  경제환경국 일자리경제과  \n",
       "2  안녕하세요?\\n동현로 67 위로 소심유치원과 맞닿은 길이 있습니다. 아침에 3살 아...   안전도시국 교통행정과  \n",
       "3  구민 을 위해 늘 수고하시는공무원 여러분께 감사합니다 다음과같이민원을제기합니다 금정...     안전도시국 건설과  \n",
       "4  선두구동 거주민입니다.\\n\\n집 뒤 물류창고의 새벽 상/하차 작업으로 인한 생활불편...   경제환경국 환경위생과  "
      ]
     },
     "execution_count": 110,
     "metadata": {},
     "output_type": "execute_result"
    }
   ],
   "source": [
    "data.head()"
   ]
  },
  {
   "cell_type": "code",
   "execution_count": 111,
   "metadata": {},
   "outputs": [
    {
     "data": {
      "text/plain": [
       "답변 담당부서\n",
       "안전도시국 건설과       757\n",
       "안전도시국 교통행정과     644\n",
       "안전도시국 건축과       483\n",
       "경제환경국 환경위생과     413\n",
       "경제환경국 공원녹지과     346\n",
       "안전도시국 안전관리과     342\n",
       "경제환경국 자원순환과     209\n",
       "행정지원국 총무과       181\n",
       "경제환경국 일자리경제과     99\n",
       "보건소 보건행정과        83\n",
       "기획감사실            79\n",
       "행정지원국 민원여권과      59\n",
       "문화복지국 사회복지과      59\n",
       "안전도시국 도시관리과      51\n",
       "Name: count, dtype: int64"
      ]
     },
     "execution_count": 111,
     "metadata": {},
     "output_type": "execute_result"
    }
   ],
   "source": [
    "data['답변 담당부서'].value_counts()"
   ]
  },
  {
   "cell_type": "code",
   "execution_count": 113,
   "metadata": {},
   "outputs": [
    {
     "data": {
      "text/plain": [
       "'구민 을 위해 늘 수고하시는공무원 여러분께 감사합니다 다음과같이민원을제기합니다 금정구 두구동1568도로부지를 구청에서측량까지했어나 사후관리를아니하여 도로위 농작물 을 심고 안전망까지설치하여 협소한도로를사용하는 학생 .등 .하교. 주민통행에 불편을 느낌니다 조속히 통행권을 확보와 도로개설및 정비를 부탁합니다'"
      ]
     },
     "execution_count": 113,
     "metadata": {},
     "output_type": "execute_result"
    }
   ],
   "source": [
    "data.loc[data['답변 담당부서'] == '안전도시국 건설과','민원 내용'].iloc[0]"
   ]
  },
  {
   "cell_type": "code",
   "execution_count": 122,
   "metadata": {},
   "outputs": [
    {
     "data": {
      "text/plain": [
       "'안녕하세요. 오늘도 노고에 감사드립니다.\\n금정구 공공도서관인 금정북뱅크(금정로 75 부산은행 2층)의 외관에 눈에 띄는 한글 간판이 없고 영문 간판 book bank 밖에 설치되어 있지 않아 영어를 잘 모르는 주민이 공공도서관에 접근하기 어렵습니다. 눈에 잘 띄는 한글 간판이나 안내문을 설치해주시면 좋겠습니다.'"
      ]
     },
     "execution_count": 122,
     "metadata": {},
     "output_type": "execute_result"
    }
   ],
   "source": [
    "data.loc[data['답변 담당부서'] == '경제환경국 공원녹지과','민원 내용'].iloc[25]"
   ]
  }
 ],
 "metadata": {
  "kernelspec": {
   "display_name": "Python 3 (ipykernel)",
   "language": "python",
   "name": "python3"
  },
  "language_info": {
   "codemirror_mode": {
    "name": "ipython",
    "version": 3
   },
   "file_extension": ".py",
   "mimetype": "text/x-python",
   "name": "python",
   "nbconvert_exporter": "python",
   "pygments_lexer": "ipython3",
   "version": "3.11.5"
  }
 },
 "nbformat": 4,
 "nbformat_minor": 5
}
